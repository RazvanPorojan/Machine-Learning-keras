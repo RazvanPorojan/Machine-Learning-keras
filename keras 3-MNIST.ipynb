{
  "nbformat": 4,
  "nbformat_minor": 0,
  "metadata": {
    "colab": {
      "name": "Untitled2.ipynb",
      "version": "0.3.2",
      "provenance": []
    },
    "kernelspec": {
      "name": "python3",
      "display_name": "Python 3"
    },
    "accelerator": "GPU"
  },
  "cells": [
    {
      "metadata": {
        "id": "SrjAwrs962DJ",
        "colab_type": "code",
        "colab": {}
      },
      "cell_type": "code",
      "source": [
        "import matplotlib.pyplot as plt\n",
        "%matplotlib inline"
      ],
      "execution_count": 0,
      "outputs": []
    },
    {
      "metadata": {
        "id": "wjqKooho5ri_",
        "colab_type": "code",
        "colab": {}
      },
      "cell_type": "code",
      "source": [
        "from keras.datasets import mnist\n",
        "(X_train, y_train), (X_test, y_test) = mnist.load_data()"
      ],
      "execution_count": 0,
      "outputs": []
    },
    {
      "metadata": {
        "id": "EuYdssz85-Sd",
        "colab_type": "code",
        "colab": {}
      },
      "cell_type": "code",
      "source": [
        "X_train = X_train.reshape(X_train.shape[0],1,28,28)\n",
        "X_test = X_test.reshape(X_test.shape[0],1,28,28)"
      ],
      "execution_count": 0,
      "outputs": []
    },
    {
      "metadata": {
        "id": "AbVAmT9e7Afn",
        "colab_type": "code",
        "outputId": "892113d3-f0a8-4bcf-a9c1-75a5517584a0",
        "colab": {
          "base_uri": "https://localhost:8080/",
          "height": 282
        }
      },
      "cell_type": "code",
      "source": [
        "plt.imshow(X_train[0].squeeze())\n",
        "print('Label: ',y_train[0])"
      ],
      "execution_count": 24,
      "outputs": [
        {
          "output_type": "stream",
          "text": [
            "Label:  5\n"
          ],
          "name": "stdout"
        },
        {
          "output_type": "display_data",
          "data": {
            "image/png": "[encoded data removed]",
            "text/plain": [
              "<matplotlib.figure.Figure at 0x7f9800325940>"
            ]
          },
          "metadata": {
            "tags": []
          }
        }
      ]
    },
    {
      "metadata": {
        "id": "DhNy7wj76k8r",
        "colab_type": "code",
        "colab": {}
      },
      "cell_type": "code",
      "source": [
        "from keras.utils import np_utils"
      ],
      "execution_count": 0,
      "outputs": []
    },
    {
      "metadata": {
        "id": "r6z9VsrY0U6a",
        "colab_type": "text"
      },
      "cell_type": "markdown",
      "source": [
        "## Normalising the Inputs"
      ]
    },
    {
      "metadata": {
        "id": "0P3doGaswaNf",
        "colab_type": "code",
        "colab": {}
      },
      "cell_type": "code",
      "source": [
        "X_train = X_train.astype('float32')\n",
        "X_test = X_test.astype('float32')\n",
        "X_train /= 255\n",
        "X_test /= 255"
      ],
      "execution_count": 0,
      "outputs": []
    },
    {
      "metadata": {
        "id": "1Jfiquxj7UVH",
        "colab_type": "code",
        "colab": {}
      },
      "cell_type": "code",
      "source": [
        "y_train = np_utils.to_categorical(y_train)\n",
        "y_test = np_utils.to_categorical(y_test)\n"
      ],
      "execution_count": 0,
      "outputs": []
    },
    {
      "metadata": {
        "id": "U-Ppu43Q7hkQ",
        "colab_type": "code",
        "colab": {}
      },
      "cell_type": "code",
      "source": [
        "from keras.models import Sequential\n",
        "import keras.layers as L\n",
        "import keras"
      ],
      "execution_count": 0,
      "outputs": []
    },
    {
      "metadata": {
        "id": "t74jQRVJAp_L",
        "colab_type": "code",
        "colab": {}
      },
      "cell_type": "code",
      "source": [
        "num_classes = y_train.shape[1]"
      ],
      "execution_count": 0,
      "outputs": []
    },
    {
      "metadata": {
        "id": "AFRmU0CC0dCZ",
        "colab_type": "text"
      },
      "cell_type": "markdown",
      "source": [
        "## Building our CNN model \n",
        "In the following model we have used dropout, adam optimisation and one Conv2D layer."
      ]
    },
    {
      "metadata": {
        "id": "r89Tjftz8H1A",
        "colab_type": "code",
        "colab": {}
      },
      "cell_type": "code",
      "source": [
        "model = Sequential()\n",
        "model.add(L.Conv2D(32,(3,3),padding = 'valid', input_shape=(1,28,28),data_format='channels_first',activation = 'relu'))\n",
        "model.add(L.MaxPooling2D(pool_size=(2,2)))\n",
        "model.add(L.Dropout(0.2))\n",
        "model.add(L.Flatten())\n",
        "model.add(L.Dense(128,activation = 'relu'))\n",
        "model.add(L.Dropout(0.3))\n",
        "model.add(L.Dense(num_classes, activation = 'softmax'))\n",
        "model.compile(loss='categorical_crossentropy', optimizer = 'adam', metrics=['accuracy'])"
      ],
      "execution_count": 0,
      "outputs": []
    },
    {
      "metadata": {
        "id": "tZOpu0eI0v0Y",
        "colab_type": "text"
      },
      "cell_type": "markdown",
      "source": [
        "## Fitting our model"
      ]
    },
    {
      "metadata": {
        "id": "kRLoE3Tj-Zt1",
        "colab_type": "code",
        "colab": {
          "base_uri": "https://localhost:8080/",
          "height": 940
        },
        "outputId": "78a4b122-280f-46e3-8f1b-966bdb1f9b22"
      },
      "cell_type": "code",
      "source": [
        "model.fit(X_train,y_train, batch_size = 128, epochs = 25,validation_data=(X_test,y_test),verbose=1)"
      ],
      "execution_count": 38,
      "outputs": [
        {
          "output_type": "stream",
          "text": [
            "Train on 60000 samples, validate on 10000 samples\n",
            "Epoch 1/25\n",
            "60000/60000 [==============================] - 6s 108us/step - loss: 0.2768 - acc: 0.9173 - val_loss: 0.0844 - val_acc: 0.9738\n",
            "Epoch 2/25\n",
            "60000/60000 [==============================] - 5s 90us/step - loss: 0.0970 - acc: 0.9713 - val_loss: 0.0577 - val_acc: 0.9807\n",
            "Epoch 3/25\n",
            "60000/60000 [==============================] - 5s 89us/step - loss: 0.0696 - acc: 0.9792 - val_loss: 0.0460 - val_acc: 0.9840\n",
            "Epoch 4/25\n",
            "60000/60000 [==============================] - 5s 89us/step - loss: 0.0557 - acc: 0.9826 - val_loss: 0.0456 - val_acc: 0.9847\n",
            "Epoch 5/25\n",
            "60000/60000 [==============================] - 5s 89us/step - loss: 0.0473 - acc: 0.9850 - val_loss: 0.0425 - val_acc: 0.9857\n",
            "Epoch 6/25\n",
            "60000/60000 [==============================] - 5s 89us/step - loss: 0.0399 - acc: 0.9871 - val_loss: 0.0374 - val_acc: 0.9871\n",
            "Epoch 7/25\n",
            "60000/60000 [==============================] - 5s 88us/step - loss: 0.0351 - acc: 0.9884 - val_loss: 0.0368 - val_acc: 0.9869\n",
            "Epoch 8/25\n",
            "60000/60000 [==============================] - 5s 89us/step - loss: 0.0286 - acc: 0.9908 - val_loss: 0.0348 - val_acc: 0.9873\n",
            "Epoch 9/25\n",
            "60000/60000 [==============================] - 5s 89us/step - loss: 0.0271 - acc: 0.9909 - val_loss: 0.0352 - val_acc: 0.9881\n",
            "Epoch 10/25\n",
            "60000/60000 [==============================] - 5s 88us/step - loss: 0.0226 - acc: 0.9924 - val_loss: 0.0356 - val_acc: 0.9893\n",
            "Epoch 11/25\n",
            "60000/60000 [==============================] - 5s 88us/step - loss: 0.0229 - acc: 0.9923 - val_loss: 0.0451 - val_acc: 0.9863\n",
            "Epoch 12/25\n",
            "60000/60000 [==============================] - 5s 88us/step - loss: 0.0192 - acc: 0.9938 - val_loss: 0.0360 - val_acc: 0.9879\n",
            "Epoch 13/25\n",
            "60000/60000 [==============================] - 5s 88us/step - loss: 0.0173 - acc: 0.9946 - val_loss: 0.0405 - val_acc: 0.9878\n",
            "Epoch 14/25\n",
            "60000/60000 [==============================] - 5s 88us/step - loss: 0.0174 - acc: 0.9942 - val_loss: 0.0387 - val_acc: 0.9884\n",
            "Epoch 15/25\n",
            "60000/60000 [==============================] - 5s 88us/step - loss: 0.0155 - acc: 0.9945 - val_loss: 0.0376 - val_acc: 0.9889\n",
            "Epoch 16/25\n",
            "60000/60000 [==============================] - 5s 88us/step - loss: 0.0159 - acc: 0.9947 - val_loss: 0.0372 - val_acc: 0.9885\n",
            "Epoch 17/25\n",
            "60000/60000 [==============================] - 5s 88us/step - loss: 0.0144 - acc: 0.9948 - val_loss: 0.0437 - val_acc: 0.9878\n",
            "Epoch 18/25\n",
            "60000/60000 [==============================] - 5s 88us/step - loss: 0.0124 - acc: 0.9956 - val_loss: 0.0416 - val_acc: 0.9878\n",
            "Epoch 19/25\n",
            "60000/60000 [==============================] - 5s 88us/step - loss: 0.0143 - acc: 0.9951 - val_loss: 0.0424 - val_acc: 0.9876\n",
            "Epoch 20/25\n",
            "60000/60000 [==============================] - 5s 88us/step - loss: 0.0113 - acc: 0.9964 - val_loss: 0.0424 - val_acc: 0.9888\n",
            "Epoch 21/25\n",
            "60000/60000 [==============================] - 5s 89us/step - loss: 0.0110 - acc: 0.9964 - val_loss: 0.0379 - val_acc: 0.9899\n",
            "Epoch 22/25\n",
            "60000/60000 [==============================] - 5s 88us/step - loss: 0.0112 - acc: 0.9963 - val_loss: 0.0411 - val_acc: 0.9895\n",
            "Epoch 23/25\n",
            "60000/60000 [==============================] - 5s 88us/step - loss: 0.0106 - acc: 0.9965 - val_loss: 0.0428 - val_acc: 0.9885\n",
            "Epoch 24/25\n",
            "60000/60000 [==============================] - 5s 88us/step - loss: 0.0102 - acc: 0.9965 - val_loss: 0.0401 - val_acc: 0.9890\n",
            "Epoch 25/25\n",
            "60000/60000 [==============================] - 5s 88us/step - loss: 0.0089 - acc: 0.9971 - val_loss: 0.0447 - val_acc: 0.9890\n"
          ],
          "name": "stdout"
        },
        {
          "output_type": "execute_result",
          "data": {
            "text/plain": [
              "<keras.callbacks.History at 0x7f97efeb4cf8>"
            ]
          },
          "metadata": {
            "tags": []
          },
          "execution_count": 38
        }
      ]
    },
    {
      "metadata": {
        "id": "CFjeqi2w01Sx",
        "colab_type": "text"
      },
      "cell_type": "markdown",
      "source": [
        "## Evaluating Our Model over Test Data"
      ]
    },
    {
      "metadata": {
        "id": "sb9Yy03gb5ye",
        "colab_type": "code",
        "colab": {
          "base_uri": "https://localhost:8080/",
          "height": 34
        },
        "outputId": "885fb0f1-049c-4f99-dae2-3690500f6f32"
      },
      "cell_type": "code",
      "source": [
        "scores = model.evaluate(X_test,y_test, verbose=1)"
      ],
      "execution_count": 39,
      "outputs": [
        {
          "output_type": "stream",
          "text": [
            "10000/10000 [==============================] - 1s 78us/step\n"
          ],
          "name": "stdout"
        }
      ]
    },
    {
      "metadata": {
        "id": "gmSpu9I1078J",
        "colab_type": "text"
      },
      "cell_type": "markdown",
      "source": [
        "## Checking our Scores"
      ]
    },
    {
      "metadata": {
        "id": "rYY9x_hSb7bZ",
        "colab_type": "code",
        "colab": {
          "base_uri": "https://localhost:8080/",
          "height": 52
        },
        "outputId": "2cd2621e-18b9-474e-f29b-a237e3d0380a"
      },
      "cell_type": "code",
      "source": [
        "print (\"Test Loss: \",scores[0],\"\\n\",\"Test Accuracy: \",scores[1]*100, \"%\")"
      ],
      "execution_count": 40,
      "outputs": [
        {
          "output_type": "stream",
          "text": [
            "Test Loss:  0.044726619361301984 \n",
            " Test Accuracy:  98.9 %\n"
          ],
          "name": "stdout"
        }
      ]
    },
    {
      "metadata": {
        "id": "89BqOo-9yLBK",
        "colab_type": "code",
        "colab": {}
      },
      "cell_type": "code",
      "source": [
        ""
      ],
      "execution_count": 0,
      "outputs": []
    }
  ]
}