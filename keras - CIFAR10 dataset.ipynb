{
  "nbformat": 4,
  "nbformat_minor": 0,
  "metadata": {
    "colab": {
      "name": "Untitled2.ipynb",
      "version": "0.3.2",
      "provenance": [],
      "include_colab_link": true
    },
    "kernelspec": {
      "name": "python3",
      "display_name": "Python 3"
    },
    "accelerator": "GPU"
  },
  "cells": [
    {
      "cell_type": "markdown",
      "metadata": {
        "id": "view-in-github",
        "colab_type": "text"
      },
      "source": [
        "<a href=\"https://colab.research.google.com/github/apoorvyadav1111/Machine-Learning/blob/master/keras%20-%20CIFAR10%20dataset.ipynb\" target=\"_parent\"><img src=\"https://colab.research.google.com/assets/colab-badge.svg\" alt=\"Open In Colab\"/></a>"
      ]
    },
    {
      "metadata": {
        "id": "SrjAwrs962DJ",
        "colab_type": "code",
        "colab": {}
      },
      "cell_type": "code",
      "source": [
        "import matplotlib.pyplot as plt\n",
        "%matplotlib inline"
      ],
      "execution_count": 0,
      "outputs": []
    },
    {
      "metadata": {
        "id": "DhNy7wj76k8r",
        "colab_type": "code",
        "colab": {}
      },
      "cell_type": "code",
      "source": [
        "from keras.utils import np_utils"
      ],
      "execution_count": 0,
      "outputs": []
    },
    {
      "metadata": {
        "id": "U-Ppu43Q7hkQ",
        "colab_type": "code",
        "colab": {}
      },
      "cell_type": "code",
      "source": [
        "from keras.models import Sequential\n",
        "import keras.layers as L\n",
        "import keras\n",
        "from keras.datasets import cifar10"
      ],
      "execution_count": 0,
      "outputs": []
    },
    {
      "metadata": {
        "id": "z9U9H0N6AsR7",
        "colab_type": "text"
      },
      "cell_type": "markdown",
      "source": [
        "## Loading Data"
      ]
    },
    {
      "metadata": {
        "id": "YlkwiUkRAq4Y",
        "colab_type": "code",
        "outputId": "b3534b55-f01e-43d1-a1b3-1f036aa33e44",
        "colab": {
          "base_uri": "https://localhost:8080/",
          "height": 52
        }
      },
      "cell_type": "code",
      "source": [
        "(X_train,y_train),(X_test,y_test)=cifar10.load_data()"
      ],
      "execution_count": 0,
      "outputs": [
        {
          "output_type": "stream",
          "text": [
            "Downloading data from https://www.cs.toronto.edu/~kriz/cifar-10-python.tar.gz\n",
            "170500096/170498071 [==============================] - 32s 0us/step\n"
          ],
          "name": "stdout"
        }
      ]
    },
    {
      "metadata": {
        "id": "SUwt3IcMDEHY",
        "colab_type": "text"
      },
      "cell_type": "markdown",
      "source": [
        "## Visualising Data"
      ]
    },
    {
      "metadata": {
        "id": "kZ63b6R9Cw1Y",
        "colab_type": "code",
        "outputId": "694a484b-b7f2-41ed-b1e7-77feeb181a48",
        "colab": {
          "base_uri": "https://localhost:8080/",
          "height": 301
        }
      },
      "cell_type": "code",
      "source": [
        "print(y_train[1])\n",
        "plt.imshow(X_train[1])"
      ],
      "execution_count": 0,
      "outputs": [
        {
          "output_type": "stream",
          "text": [
            "[0. 0. 0. 0. 0. 0. 0. 0. 0. 1.]\n"
          ],
          "name": "stdout"
        },
        {
          "output_type": "execute_result",
          "data": {
            "text/plain": [
              "<matplotlib.image.AxesImage at 0x7f97eeb60f28>"
            ]
          },
          "metadata": {
            "tags": []
          },
          "execution_count": 55
        },
        {
          "output_type": "display_data",
          "data": {
            "image/png": "[encoded data removed]",
            "text/plain": [
              "<matplotlib.figure.Figure at 0x7f97eec076a0>"
            ]
          },
          "metadata": {
            "tags": []
          }
        }
      ]
    },
    {
      "metadata": {
        "id": "hyR3Td8EA9pG",
        "colab_type": "text"
      },
      "cell_type": "markdown",
      "source": [
        "## Normalising inputs"
      ]
    },
    {
      "metadata": {
        "id": "7lbZXMAYA6Sq",
        "colab_type": "code",
        "colab": {}
      },
      "cell_type": "code",
      "source": [
        "X_train = X_train.astype('float32')\n",
        "X_test = X_test.astype('float32')\n",
        "X_train /= 255.0\n",
        "X_test /= 255.0"
      ],
      "execution_count": 0,
      "outputs": []
    },
    {
      "metadata": {
        "id": "HTJqpCdhBT4D",
        "colab_type": "text"
      },
      "cell_type": "markdown",
      "source": [
        "## One hot encoding output"
      ]
    },
    {
      "metadata": {
        "id": "D74wIlwiBcrr",
        "colab_type": "code",
        "colab": {}
      },
      "cell_type": "code",
      "source": [
        "y_train = np_utils.to_categorical(y_train)\n",
        "y_test = np_utils.to_categorical(y_test)"
      ],
      "execution_count": 0,
      "outputs": []
    },
    {
      "metadata": {
        "id": "AFRmU0CC0dCZ",
        "colab_type": "text"
      },
      "cell_type": "markdown",
      "source": [
        "## Building our CNN model \n",
        "In the following model we have used dropout, adam optimisation and one Conv2D layer."
      ]
    },
    {
      "metadata": {
        "id": "r89Tjftz8H1A",
        "colab_type": "code",
        "colab": {}
      },
      "cell_type": "code",
      "source": [
        "model = Sequential()\n",
        "model.add(L.Conv2D(32,(3,3),padding = 'valid', input_shape=(32,32,3),data_format='channels_last',activation = 'relu'))\n",
        "model.add(L.MaxPooling2D(pool_size=(2,2)))\n",
        "model.add(L.Dropout(0.2))\n",
        "model.add(L.Conv2D(64,(3,3),padding = 'valid',activation = 'relu'))\n",
        "model.add(L.MaxPooling2D(pool_size=(2,2)))\n",
        "model.add(L.Dropout(0.2))\n",
        "model.add(L.Flatten())\n",
        "model.add(L.Dense(512,activation = 'relu'))\n",
        "model.add(L.Dropout(0.3))\n",
        "model.add(L.Dense(num_classes, activation = 'softmax'))\n",
        "model.compile(loss='categorical_crossentropy', optimizer = 'adam', metrics=['accuracy'])"
      ],
      "execution_count": 0,
      "outputs": []
    },
    {
      "metadata": {
        "id": "tZOpu0eI0v0Y",
        "colab_type": "text"
      },
      "cell_type": "markdown",
      "source": [
        "## Fitting our model"
      ]
    },
    {
      "metadata": {
        "id": "kRLoE3Tj-Zt1",
        "colab_type": "code",
        "outputId": "9173f8ca-7e9b-4333-c7c6-e1657b922d05",
        "colab": {
          "base_uri": "https://localhost:8080/",
          "height": 1788
        }
      },
      "cell_type": "code",
      "source": [
        "model.fit(X_train,y_train, batch_size = 64 ,epochs = 50,validation_data=(X_test,y_test),verbose=1)"
      ],
      "execution_count": 0,
      "outputs": [
        {
          "output_type": "stream",
          "text": [
            "Train on 50000 samples, validate on 10000 samples\n",
            "Epoch 1/50\n",
            "50000/50000 [==============================] - 16s 329us/step - loss: 1.2063 - acc: 0.5713 - val_loss: 1.0887 - val_acc: 0.6134\n",
            "Epoch 2/50\n",
            "50000/50000 [==============================] - 16s 317us/step - loss: 1.0097 - acc: 0.6428 - val_loss: 0.9455 - val_acc: 0.6607\n",
            "Epoch 3/50\n",
            "50000/50000 [==============================] - 16s 316us/step - loss: 0.8896 - acc: 0.6865 - val_loss: 0.8146 - val_acc: 0.7131\n",
            "Epoch 4/50\n",
            "50000/50000 [==============================] - 16s 316us/step - loss: 0.7950 - acc: 0.7217 - val_loss: 0.8372 - val_acc: 0.7060\n",
            "Epoch 5/50\n",
            "50000/50000 [==============================] - 16s 317us/step - loss: 0.7233 - acc: 0.7456 - val_loss: 0.7441 - val_acc: 0.7462\n",
            "Epoch 6/50\n",
            "50000/50000 [==============================] - 16s 317us/step - loss: 0.6661 - acc: 0.7657 - val_loss: 0.7372 - val_acc: 0.7509\n",
            "Epoch 7/50\n",
            "50000/50000 [==============================] - 16s 316us/step - loss: 0.6186 - acc: 0.7812 - val_loss: 0.7168 - val_acc: 0.7604\n",
            "Epoch 8/50\n",
            "50000/50000 [==============================] - 16s 316us/step - loss: 0.5798 - acc: 0.7958 - val_loss: 0.6827 - val_acc: 0.7726\n",
            "Epoch 9/50\n",
            "50000/50000 [==============================] - 16s 317us/step - loss: 0.5459 - acc: 0.8076 - val_loss: 0.7201 - val_acc: 0.7634\n",
            "Epoch 10/50\n",
            "50000/50000 [==============================] - 16s 317us/step - loss: 0.5116 - acc: 0.8198 - val_loss: 0.6868 - val_acc: 0.7735\n",
            "Epoch 11/50\n",
            "50000/50000 [==============================] - 16s 316us/step - loss: 0.4815 - acc: 0.8274 - val_loss: 0.6767 - val_acc: 0.7748\n",
            "Epoch 12/50\n",
            "50000/50000 [==============================] - 16s 317us/step - loss: 0.4551 - acc: 0.8387 - val_loss: 0.6829 - val_acc: 0.7796\n",
            "Epoch 13/50\n",
            "50000/50000 [==============================] - 16s 317us/step - loss: 0.4384 - acc: 0.8437 - val_loss: 0.6972 - val_acc: 0.7741\n",
            "Epoch 14/50\n",
            "50000/50000 [==============================] - 16s 316us/step - loss: 0.4123 - acc: 0.8540 - val_loss: 0.6909 - val_acc: 0.7788\n",
            "Epoch 15/50\n",
            "50000/50000 [==============================] - 16s 317us/step - loss: 0.3935 - acc: 0.8599 - val_loss: 0.6931 - val_acc: 0.7775\n",
            "Epoch 16/50\n",
            "50000/50000 [==============================] - 16s 319us/step - loss: 0.3780 - acc: 0.8640 - val_loss: 0.7262 - val_acc: 0.7738\n",
            "Epoch 17/50\n",
            "50000/50000 [==============================] - 16s 319us/step - loss: 0.3675 - acc: 0.8694 - val_loss: 0.7158 - val_acc: 0.7770\n",
            "Epoch 18/50\n",
            "50000/50000 [==============================] - 16s 317us/step - loss: 0.3431 - acc: 0.8781 - val_loss: 0.7477 - val_acc: 0.7728\n",
            "Epoch 19/50\n",
            "50000/50000 [==============================] - 16s 317us/step - loss: 0.3356 - acc: 0.8797 - val_loss: 0.7494 - val_acc: 0.7782\n",
            "Epoch 20/50\n",
            "50000/50000 [==============================] - 16s 316us/step - loss: 0.3282 - acc: 0.8847 - val_loss: 0.7486 - val_acc: 0.7768\n",
            "Epoch 21/50\n",
            "50000/50000 [==============================] - 16s 317us/step - loss: 0.3089 - acc: 0.8908 - val_loss: 0.7529 - val_acc: 0.7791\n",
            "Epoch 22/50\n",
            "50000/50000 [==============================] - 16s 316us/step - loss: 0.3048 - acc: 0.8926 - val_loss: 0.7786 - val_acc: 0.7761\n",
            "Epoch 23/50\n",
            "50000/50000 [==============================] - 16s 317us/step - loss: 0.2971 - acc: 0.8937 - val_loss: 0.7827 - val_acc: 0.7735\n",
            "Epoch 24/50\n",
            "50000/50000 [==============================] - 16s 317us/step - loss: 0.2870 - acc: 0.8976 - val_loss: 0.7681 - val_acc: 0.7772\n",
            "Epoch 25/50\n",
            "50000/50000 [==============================] - 16s 317us/step - loss: 0.2864 - acc: 0.8990 - val_loss: 0.7687 - val_acc: 0.7799\n",
            "Epoch 26/50\n",
            "50000/50000 [==============================] - 16s 316us/step - loss: 0.2758 - acc: 0.9024 - val_loss: 0.8041 - val_acc: 0.7769\n",
            "Epoch 27/50\n",
            "50000/50000 [==============================] - 16s 316us/step - loss: 0.2724 - acc: 0.9038 - val_loss: 0.8076 - val_acc: 0.7815\n",
            "Epoch 28/50\n",
            "50000/50000 [==============================] - 16s 317us/step - loss: 0.2656 - acc: 0.9052 - val_loss: 0.8190 - val_acc: 0.7729\n",
            "Epoch 29/50\n",
            "50000/50000 [==============================] - 16s 318us/step - loss: 0.2596 - acc: 0.9081 - val_loss: 0.7932 - val_acc: 0.7787\n",
            "Epoch 30/50\n",
            "50000/50000 [==============================] - 16s 317us/step - loss: 0.2562 - acc: 0.9111 - val_loss: 0.8341 - val_acc: 0.7716\n",
            "Epoch 31/50\n",
            "50000/50000 [==============================] - 16s 317us/step - loss: 0.2618 - acc: 0.9075 - val_loss: 0.8025 - val_acc: 0.7713\n",
            "Epoch 32/50\n",
            "50000/50000 [==============================] - 16s 314us/step - loss: 0.2498 - acc: 0.9133 - val_loss: 0.8260 - val_acc: 0.7808\n",
            "Epoch 33/50\n",
            "50000/50000 [==============================] - 16s 312us/step - loss: 0.2457 - acc: 0.9145 - val_loss: 0.8706 - val_acc: 0.7731\n",
            "Epoch 34/50\n",
            "50000/50000 [==============================] - 16s 312us/step - loss: 0.2346 - acc: 0.9182 - val_loss: 0.8111 - val_acc: 0.7786\n",
            "Epoch 35/50\n",
            "50000/50000 [==============================] - 16s 313us/step - loss: 0.2365 - acc: 0.9179 - val_loss: 0.8343 - val_acc: 0.7765\n",
            "Epoch 36/50\n",
            "50000/50000 [==============================] - 16s 315us/step - loss: 0.2341 - acc: 0.9166 - val_loss: 0.8197 - val_acc: 0.7832\n",
            "Epoch 37/50\n",
            "50000/50000 [==============================] - 16s 312us/step - loss: 0.2269 - acc: 0.9203 - val_loss: 0.8244 - val_acc: 0.7799\n",
            "Epoch 38/50\n",
            "50000/50000 [==============================] - 16s 313us/step - loss: 0.2277 - acc: 0.9216 - val_loss: 0.8409 - val_acc: 0.7782\n",
            "Epoch 39/50\n",
            "50000/50000 [==============================] - 16s 311us/step - loss: 0.2246 - acc: 0.9218 - val_loss: 0.7909 - val_acc: 0.7854\n",
            "Epoch 40/50\n",
            "50000/50000 [==============================] - 16s 312us/step - loss: 0.2192 - acc: 0.9243 - val_loss: 0.8620 - val_acc: 0.7830\n",
            "Epoch 41/50\n",
            "50000/50000 [==============================] - 16s 313us/step - loss: 0.2166 - acc: 0.9244 - val_loss: 0.8410 - val_acc: 0.7858\n",
            "Epoch 42/50\n",
            "50000/50000 [==============================] - 16s 313us/step - loss: 0.2228 - acc: 0.9225 - val_loss: 0.8416 - val_acc: 0.7796\n",
            "Epoch 43/50\n",
            "50000/50000 [==============================] - 16s 312us/step - loss: 0.2153 - acc: 0.9255 - val_loss: 0.9169 - val_acc: 0.7748\n",
            "Epoch 44/50\n",
            "50000/50000 [==============================] - 16s 313us/step - loss: 0.2088 - acc: 0.9268 - val_loss: 0.8799 - val_acc: 0.7840\n",
            "Epoch 45/50\n",
            "50000/50000 [==============================] - 16s 312us/step - loss: 0.2171 - acc: 0.9253 - val_loss: 0.8554 - val_acc: 0.7825\n",
            "Epoch 46/50\n",
            "50000/50000 [==============================] - 16s 312us/step - loss: 0.2092 - acc: 0.9278 - val_loss: 0.8764 - val_acc: 0.7823\n",
            "Epoch 47/50\n",
            "50000/50000 [==============================] - 16s 312us/step - loss: 0.2086 - acc: 0.9287 - val_loss: 0.8753 - val_acc: 0.7809\n",
            "Epoch 48/50\n",
            "50000/50000 [==============================] - 16s 313us/step - loss: 0.2023 - acc: 0.9303 - val_loss: 0.9078 - val_acc: 0.7773\n",
            "Epoch 49/50\n",
            "50000/50000 [==============================] - 16s 312us/step - loss: 0.2038 - acc: 0.9289 - val_loss: 0.8674 - val_acc: 0.7769\n",
            "Epoch 50/50\n",
            "50000/50000 [==============================] - 16s 312us/step - loss: 0.1997 - acc: 0.9316 - val_loss: 0.9119 - val_acc: 0.7774\n"
          ],
          "name": "stdout"
        },
        {
          "output_type": "execute_result",
          "data": {
            "text/plain": [
              "<keras.callbacks.History at 0x7f97ec604a58>"
            ]
          },
          "metadata": {
            "tags": []
          },
          "execution_count": 73
        }
      ]
    },
    {
      "metadata": {
        "id": "CFjeqi2w01Sx",
        "colab_type": "text"
      },
      "cell_type": "markdown",
      "source": [
        "## Evaluating Our Model over Test Data"
      ]
    },
    {
      "metadata": {
        "id": "sb9Yy03gb5ye",
        "colab_type": "code",
        "outputId": "691b6bc6-28ad-41a6-8830-0ebd5a5852ca",
        "colab": {
          "base_uri": "https://localhost:8080/",
          "height": 34
        }
      },
      "cell_type": "code",
      "source": [
        "scores = model.evaluate(X_test,y_test, verbose=1)"
      ],
      "execution_count": 0,
      "outputs": [
        {
          "output_type": "stream",
          "text": [
            "10000/10000 [==============================] - 2s 208us/step\n"
          ],
          "name": "stdout"
        }
      ]
    },
    {
      "metadata": {
        "id": "gmSpu9I1078J",
        "colab_type": "text"
      },
      "cell_type": "markdown",
      "source": [
        "## Checking our Scores"
      ]
    },
    {
      "metadata": {
        "id": "rYY9x_hSb7bZ",
        "colab_type": "code",
        "outputId": "d6e1d139-23d7-4622-dc80-515e3b137d1e",
        "colab": {
          "base_uri": "https://localhost:8080/",
          "height": 52
        }
      },
      "cell_type": "code",
      "source": [
        "print (\"Test Loss: \",scores[0],\"\\n\",\"Test Accuracy: \",scores[1]*100, \"%\")"
      ],
      "execution_count": 0,
      "outputs": [
        {
          "output_type": "stream",
          "text": [
            "Test Loss:  0.9119382247924804 \n",
            " Test Accuracy:  77.74 %\n"
          ],
          "name": "stdout"
        }
      ]
    },
    {
      "metadata": {
        "id": "UW75uVb2LysS",
        "colab_type": "code",
        "colab": {}
      },
      "cell_type": "code",
      "source": [
        ""
      ],
      "execution_count": 0,
      "outputs": []
    }
  ]
}