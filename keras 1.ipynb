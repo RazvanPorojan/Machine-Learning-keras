{
  "nbformat": 4,
  "nbformat_minor": 0,
  "metadata": {
    "colab": {
      "name": "Untitled0.ipynb",
      "version": "0.3.2",
      "provenance": [],
      "include_colab_link": true
    },
    "kernelspec": {
      "name": "python3",
      "display_name": "Python 3"
    }
  },
  "cells": [
    {
      "cell_type": "markdown",
      "metadata": {
        "id": "view-in-github",
        "colab_type": "text"
      },
      "source": [
        "<a href=\"https://colab.research.google.com/github/apoorvyadav1111/Machine-Learning/blob/master/keras%201.ipynb\" target=\"_parent\"><img src=\"https://colab.research.google.com/assets/colab-badge.svg\" alt=\"Open In Colab\"/></a>"
      ]
    },
    {
      "metadata": {
        "id": "BNRAZSnj0Mly",
        "colab_type": "code",
        "colab": {}
      },
      "cell_type": "code",
      "source": [
        "from keras.models import Sequential\n",
        "from keras.layers import Dense\n",
        "import numpy as np"
      ],
      "execution_count": 0,
      "outputs": []
    },
    {
      "metadata": {
        "id": "FZP_pFMo0oNm",
        "colab_type": "code",
        "colab": {}
      },
      "cell_type": "code",
      "source": [
        "seed=7"
      ],
      "execution_count": 0,
      "outputs": []
    },
    {
      "metadata": {
        "id": "EzZDk6O508t3",
        "colab_type": "code",
        "colab": {}
      },
      "cell_type": "code",
      "source": [
        "np.random.seed(seed)"
      ],
      "execution_count": 0,
      "outputs": []
    },
    {
      "metadata": {
        "id": "AYkRgC041IK8",
        "colab_type": "code",
        "colab": {
          "resources": {
            "http://localhost:8080/nbextensions/google.colab/files.js": {
              "data": "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",
              "ok": true,
              "headers": [
                [
                  "content-type",
                  "application/javascript"
                ]
              ],
              "status": 200,
              "status_text": "OK"
            }
          },
          "base_uri": "https://localhost:8080/",
          "height": 43
        },
        "outputId": "cefa1ae5-bccd-4760-dbab-024d2a47eb91"
      },
      "cell_type": "code",
      "source": [
        "from google.colab import files\n",
        "\n",
        "uploaded = files.upload()\n",
        "\n",
        "for fn in uploaded.keys():\n",
        "  print('User uploaded file \"{name}\" with length {length} bytes'.format(\n",
        "      name=fn, length=len(uploaded[fn])))"
      ],
      "execution_count": 11,
      "outputs": [
        {
          "output_type": "display_data",
          "data": {
            "text/html": [
              "\n",
              "     <input type=\"file\" id=\"files-76ffa3ce-f2e9-47b0-893a-31ac51152dbe\" name=\"files[]\" multiple disabled />\n",
              "     <output id=\"result-76ffa3ce-f2e9-47b0-893a-31ac51152dbe\">\n",
              "      Upload widget is only available when the cell has been executed in the\n",
              "      current browser session. Please rerun this cell to enable.\n",
              "      </output>\n",
              "      <script src=\"/nbextensions/google.colab/files.js\"></script> "
            ],
            "text/plain": [
              "<IPython.core.display.HTML object>"
            ]
          },
          "metadata": {
            "tags": []
          }
        }
      ]
    },
    {
      "metadata": {
        "id": "s5Mj3w8d1jDS",
        "colab_type": "code",
        "colab": {}
      },
      "cell_type": "code",
      "source": [
        "import os"
      ],
      "execution_count": 0,
      "outputs": []
    },
    {
      "metadata": {
        "id": "Ok9kdbge2GTc",
        "colab_type": "code",
        "colab": {
          "base_uri": "https://localhost:8080/",
          "height": 34
        },
        "outputId": "36ecc5dd-12c3-4096-e851-7c15db9c662d"
      },
      "cell_type": "code",
      "source": [
        "print(os.listdir())"
      ],
      "execution_count": 14,
      "outputs": [
        {
          "output_type": "stream",
          "text": [
            "['.config', 'sample_data', 'pima-indians-diabetes.data.csv']\n"
          ],
          "name": "stdout"
        }
      ]
    },
    {
      "metadata": {
        "id": "Eo3I3yNR2PrJ",
        "colab_type": "code",
        "colab": {}
      },
      "cell_type": "code",
      "source": [
        "dataset=np.loadtxt('pima-indians-diabetes.data.csv',delimiter=',')"
      ],
      "execution_count": 0,
      "outputs": []
    },
    {
      "metadata": {
        "id": "UxrIXIPx2W9f",
        "colab_type": "code",
        "colab": {}
      },
      "cell_type": "code",
      "source": [
        "X=dataset[:,0:8]\n",
        "Y=dataset[:,8]"
      ],
      "execution_count": 0,
      "outputs": []
    },
    {
      "metadata": {
        "id": "NLoXOqV02j-F",
        "colab_type": "code",
        "colab": {}
      },
      "cell_type": "code",
      "source": [
        "model=Sequential()\n",
        "model.add(Dense(12, input_dim=8, kernel_initializer='uniform', activation='relu'))\n",
        "model.add(Dense(8, kernel_initializer='uniform', activation='relu'))\n",
        "model.add(Dense(1, kernel_initializer='uniform', activation='sigmoid'))"
      ],
      "execution_count": 0,
      "outputs": []
    },
    {
      "metadata": {
        "id": "2_6t3JPt3c5A",
        "colab_type": "code",
        "colab": {}
      },
      "cell_type": "code",
      "source": [
        "model.compile(loss='binary_crossentropy',optimizer='adam',metrics=['accuracy'])"
      ],
      "execution_count": 0,
      "outputs": []
    },
    {
      "metadata": {
        "id": "LdOvggG63yT6",
        "colab_type": "code",
        "colab": {
          "base_uri": "https://localhost:8080/",
          "height": 5264
        },
        "outputId": "78acf215-5a58-4aba-b9ec-30d0f2d2e6af"
      },
      "cell_type": "code",
      "source": [
        "model.fit(X,Y,epochs=150,batch_size=10)"
      ],
      "execution_count": 33,
      "outputs": [
        {
          "output_type": "stream",
          "text": [
            "Epoch 1/150\n",
            "768/768 [==============================] - 1s 1ms/step - loss: 0.6782 - acc: 0.6510\n",
            "Epoch 2/150\n",
            "768/768 [==============================] - 0s 164us/step - loss: 0.6575 - acc: 0.6523\n",
            "Epoch 3/150\n",
            "768/768 [==============================] - 0s 158us/step - loss: 0.6419 - acc: 0.6458\n",
            "Epoch 4/150\n",
            "768/768 [==============================] - 0s 150us/step - loss: 0.6252 - acc: 0.6615\n",
            "Epoch 5/150\n",
            "768/768 [==============================] - 0s 173us/step - loss: 0.6093 - acc: 0.6862\n",
            "Epoch 6/150\n",
            "768/768 [==============================] - 0s 172us/step - loss: 0.6070 - acc: 0.6771\n",
            "Epoch 7/150\n",
            "768/768 [==============================] - 0s 157us/step - loss: 0.5936 - acc: 0.6927\n",
            "Epoch 8/150\n",
            "768/768 [==============================] - 0s 173us/step - loss: 0.5933 - acc: 0.6927\n",
            "Epoch 9/150\n",
            "768/768 [==============================] - 0s 164us/step - loss: 0.5858 - acc: 0.6979\n",
            "Epoch 10/150\n",
            "768/768 [==============================] - 0s 165us/step - loss: 0.5938 - acc: 0.6810\n",
            "Epoch 11/150\n",
            "768/768 [==============================] - 0s 156us/step - loss: 0.5874 - acc: 0.6875\n",
            "Epoch 12/150\n",
            "768/768 [==============================] - 0s 178us/step - loss: 0.5794 - acc: 0.7031\n",
            "Epoch 13/150\n",
            "768/768 [==============================] - 0s 160us/step - loss: 0.5772 - acc: 0.6992\n",
            "Epoch 14/150\n",
            "768/768 [==============================] - 0s 150us/step - loss: 0.5745 - acc: 0.7096\n",
            "Epoch 15/150\n",
            "768/768 [==============================] - 0s 162us/step - loss: 0.5724 - acc: 0.7057\n",
            "Epoch 16/150\n",
            "768/768 [==============================] - 0s 151us/step - loss: 0.5713 - acc: 0.7031\n",
            "Epoch 17/150\n",
            "768/768 [==============================] - 0s 162us/step - loss: 0.5869 - acc: 0.6875\n",
            "Epoch 18/150\n",
            "768/768 [==============================] - 0s 112us/step - loss: 0.5737 - acc: 0.7187\n",
            "Epoch 19/150\n",
            "768/768 [==============================] - 0s 110us/step - loss: 0.5676 - acc: 0.7070\n",
            "Epoch 20/150\n",
            "768/768 [==============================] - 0s 120us/step - loss: 0.5690 - acc: 0.7031\n",
            "Epoch 21/150\n",
            "768/768 [==============================] - 0s 114us/step - loss: 0.5689 - acc: 0.7070\n",
            "Epoch 22/150\n",
            "768/768 [==============================] - 0s 112us/step - loss: 0.5584 - acc: 0.7148\n",
            "Epoch 23/150\n",
            "768/768 [==============================] - 0s 115us/step - loss: 0.5534 - acc: 0.7279\n",
            "Epoch 24/150\n",
            "768/768 [==============================] - 0s 113us/step - loss: 0.5567 - acc: 0.7122\n",
            "Epoch 25/150\n",
            "768/768 [==============================] - 0s 119us/step - loss: 0.5594 - acc: 0.7096\n",
            "Epoch 26/150\n",
            "768/768 [==============================] - 0s 114us/step - loss: 0.5526 - acc: 0.7227\n",
            "Epoch 27/150\n",
            "768/768 [==============================] - 0s 111us/step - loss: 0.5478 - acc: 0.7331\n",
            "Epoch 28/150\n",
            "768/768 [==============================] - 0s 116us/step - loss: 0.5446 - acc: 0.7266\n",
            "Epoch 29/150\n",
            "768/768 [==============================] - 0s 115us/step - loss: 0.5439 - acc: 0.7279\n",
            "Epoch 30/150\n",
            "768/768 [==============================] - 0s 117us/step - loss: 0.5503 - acc: 0.7344\n",
            "Epoch 31/150\n",
            "768/768 [==============================] - 0s 114us/step - loss: 0.5470 - acc: 0.7396\n",
            "Epoch 32/150\n",
            "768/768 [==============================] - 0s 112us/step - loss: 0.5469 - acc: 0.7135\n",
            "Epoch 33/150\n",
            "768/768 [==============================] - 0s 113us/step - loss: 0.5411 - acc: 0.7214\n",
            "Epoch 34/150\n",
            "768/768 [==============================] - 0s 117us/step - loss: 0.5376 - acc: 0.7331\n",
            "Epoch 35/150\n",
            "768/768 [==============================] - 0s 120us/step - loss: 0.5391 - acc: 0.7409\n",
            "Epoch 36/150\n",
            "768/768 [==============================] - 0s 116us/step - loss: 0.5348 - acc: 0.7318\n",
            "Epoch 37/150\n",
            "768/768 [==============================] - 0s 111us/step - loss: 0.5308 - acc: 0.7370\n",
            "Epoch 38/150\n",
            "768/768 [==============================] - 0s 109us/step - loss: 0.5296 - acc: 0.7448\n",
            "Epoch 39/150\n",
            "768/768 [==============================] - 0s 114us/step - loss: 0.5274 - acc: 0.7344\n",
            "Epoch 40/150\n",
            "768/768 [==============================] - 0s 113us/step - loss: 0.5278 - acc: 0.7500\n",
            "Epoch 41/150\n",
            "768/768 [==============================] - 0s 115us/step - loss: 0.5285 - acc: 0.7383\n",
            "Epoch 42/150\n",
            "768/768 [==============================] - 0s 115us/step - loss: 0.5283 - acc: 0.7383\n",
            "Epoch 43/150\n",
            "768/768 [==============================] - 0s 126us/step - loss: 0.5235 - acc: 0.7487\n",
            "Epoch 44/150\n",
            "768/768 [==============================] - 0s 113us/step - loss: 0.5200 - acc: 0.7461\n",
            "Epoch 45/150\n",
            "768/768 [==============================] - 0s 118us/step - loss: 0.5193 - acc: 0.7461\n",
            "Epoch 46/150\n",
            "768/768 [==============================] - 0s 110us/step - loss: 0.5233 - acc: 0.7435\n",
            "Epoch 47/150\n",
            "768/768 [==============================] - 0s 111us/step - loss: 0.5196 - acc: 0.7487\n",
            "Epoch 48/150\n",
            "768/768 [==============================] - 0s 112us/step - loss: 0.5166 - acc: 0.7487\n",
            "Epoch 49/150\n",
            "768/768 [==============================] - 0s 118us/step - loss: 0.5150 - acc: 0.7578\n",
            "Epoch 50/150\n",
            "768/768 [==============================] - 0s 114us/step - loss: 0.5196 - acc: 0.7383\n",
            "Epoch 51/150\n",
            "768/768 [==============================] - 0s 132us/step - loss: 0.5166 - acc: 0.7552\n",
            "Epoch 52/150\n",
            "768/768 [==============================] - 0s 116us/step - loss: 0.5148 - acc: 0.7682\n",
            "Epoch 53/150\n",
            "768/768 [==============================] - 0s 120us/step - loss: 0.5076 - acc: 0.7695\n",
            "Epoch 54/150\n",
            "768/768 [==============================] - 0s 122us/step - loss: 0.5196 - acc: 0.7526\n",
            "Epoch 55/150\n",
            "768/768 [==============================] - 0s 113us/step - loss: 0.5228 - acc: 0.7448\n",
            "Epoch 56/150\n",
            "768/768 [==============================] - 0s 116us/step - loss: 0.5111 - acc: 0.7552\n",
            "Epoch 57/150\n",
            "768/768 [==============================] - 0s 118us/step - loss: 0.5119 - acc: 0.7565\n",
            "Epoch 58/150\n",
            "768/768 [==============================] - 0s 116us/step - loss: 0.5057 - acc: 0.7643\n",
            "Epoch 59/150\n",
            "768/768 [==============================] - 0s 112us/step - loss: 0.5053 - acc: 0.7617\n",
            "Epoch 60/150\n",
            "768/768 [==============================] - 0s 117us/step - loss: 0.5076 - acc: 0.7513\n",
            "Epoch 61/150\n",
            "768/768 [==============================] - 0s 111us/step - loss: 0.5044 - acc: 0.7695\n",
            "Epoch 62/150\n",
            "768/768 [==============================] - 0s 118us/step - loss: 0.5058 - acc: 0.7539\n",
            "Epoch 63/150\n",
            "768/768 [==============================] - 0s 112us/step - loss: 0.5059 - acc: 0.7656\n",
            "Epoch 64/150\n",
            "768/768 [==============================] - 0s 112us/step - loss: 0.4980 - acc: 0.7799\n",
            "Epoch 65/150\n",
            "768/768 [==============================] - 0s 115us/step - loss: 0.4932 - acc: 0.7760\n",
            "Epoch 66/150\n",
            "768/768 [==============================] - 0s 115us/step - loss: 0.4987 - acc: 0.7617\n",
            "Epoch 67/150\n",
            "768/768 [==============================] - 0s 109us/step - loss: 0.5008 - acc: 0.7565\n",
            "Epoch 68/150\n",
            "768/768 [==============================] - 0s 112us/step - loss: 0.4984 - acc: 0.7682\n",
            "Epoch 69/150\n",
            "768/768 [==============================] - 0s 112us/step - loss: 0.4931 - acc: 0.7682\n",
            "Epoch 70/150\n",
            "768/768 [==============================] - 0s 111us/step - loss: 0.4975 - acc: 0.7591\n",
            "Epoch 71/150\n",
            "768/768 [==============================] - 0s 115us/step - loss: 0.4941 - acc: 0.7656\n",
            "Epoch 72/150\n",
            "768/768 [==============================] - 0s 113us/step - loss: 0.4918 - acc: 0.7669\n",
            "Epoch 73/150\n",
            "768/768 [==============================] - 0s 112us/step - loss: 0.4980 - acc: 0.7630\n",
            "Epoch 74/150\n",
            "768/768 [==============================] - 0s 112us/step - loss: 0.4929 - acc: 0.7591\n",
            "Epoch 75/150\n",
            "768/768 [==============================] - 0s 116us/step - loss: 0.4915 - acc: 0.7721\n",
            "Epoch 76/150\n",
            "768/768 [==============================] - 0s 119us/step - loss: 0.4919 - acc: 0.7604\n",
            "Epoch 77/150\n",
            "768/768 [==============================] - 0s 114us/step - loss: 0.4916 - acc: 0.7630\n",
            "Epoch 78/150\n",
            "768/768 [==============================] - 0s 113us/step - loss: 0.4889 - acc: 0.7747\n",
            "Epoch 79/150\n",
            "768/768 [==============================] - 0s 114us/step - loss: 0.4899 - acc: 0.7721\n",
            "Epoch 80/150\n",
            "768/768 [==============================] - 0s 110us/step - loss: 0.4841 - acc: 0.7682\n",
            "Epoch 81/150\n",
            "768/768 [==============================] - 0s 116us/step - loss: 0.4810 - acc: 0.7734\n",
            "Epoch 82/150\n",
            "768/768 [==============================] - 0s 114us/step - loss: 0.4847 - acc: 0.7773\n",
            "Epoch 83/150\n",
            "768/768 [==============================] - 0s 118us/step - loss: 0.4760 - acc: 0.7812\n",
            "Epoch 84/150\n",
            "768/768 [==============================] - 0s 109us/step - loss: 0.4808 - acc: 0.7799\n",
            "Epoch 85/150\n",
            "768/768 [==============================] - 0s 114us/step - loss: 0.4891 - acc: 0.7734\n",
            "Epoch 86/150\n",
            "768/768 [==============================] - 0s 117us/step - loss: 0.4873 - acc: 0.7708\n",
            "Epoch 87/150\n",
            "768/768 [==============================] - 0s 110us/step - loss: 0.4891 - acc: 0.7630\n",
            "Epoch 88/150\n",
            "768/768 [==============================] - 0s 110us/step - loss: 0.4772 - acc: 0.7773\n",
            "Epoch 89/150\n",
            "768/768 [==============================] - 0s 116us/step - loss: 0.4752 - acc: 0.7878\n",
            "Epoch 90/150\n",
            "768/768 [==============================] - 0s 116us/step - loss: 0.4694 - acc: 0.7734\n",
            "Epoch 91/150\n",
            "768/768 [==============================] - 0s 114us/step - loss: 0.4766 - acc: 0.7839\n",
            "Epoch 92/150\n",
            "768/768 [==============================] - 0s 109us/step - loss: 0.4711 - acc: 0.7852\n",
            "Epoch 93/150\n",
            "768/768 [==============================] - 0s 110us/step - loss: 0.4733 - acc: 0.7839\n",
            "Epoch 94/150\n",
            "768/768 [==============================] - 0s 111us/step - loss: 0.4762 - acc: 0.7708\n",
            "Epoch 95/150\n",
            "768/768 [==============================] - 0s 114us/step - loss: 0.4698 - acc: 0.7878\n",
            "Epoch 96/150\n",
            "768/768 [==============================] - 0s 111us/step - loss: 0.4666 - acc: 0.7826\n",
            "Epoch 97/150\n",
            "768/768 [==============================] - 0s 111us/step - loss: 0.4696 - acc: 0.7878\n",
            "Epoch 98/150\n",
            "768/768 [==============================] - 0s 113us/step - loss: 0.4663 - acc: 0.7747\n",
            "Epoch 99/150\n",
            "768/768 [==============================] - 0s 121us/step - loss: 0.4695 - acc: 0.7773\n",
            "Epoch 100/150\n",
            "768/768 [==============================] - 0s 117us/step - loss: 0.4609 - acc: 0.7878\n",
            "Epoch 101/150\n",
            "768/768 [==============================] - 0s 117us/step - loss: 0.4740 - acc: 0.7760\n",
            "Epoch 102/150\n",
            "768/768 [==============================] - 0s 114us/step - loss: 0.4557 - acc: 0.7852\n",
            "Epoch 103/150\n",
            "768/768 [==============================] - 0s 112us/step - loss: 0.4613 - acc: 0.7891\n",
            "Epoch 104/150\n",
            "768/768 [==============================] - 0s 118us/step - loss: 0.4766 - acc: 0.7734\n",
            "Epoch 105/150\n",
            "768/768 [==============================] - 0s 114us/step - loss: 0.4581 - acc: 0.7904\n",
            "Epoch 106/150\n",
            "768/768 [==============================] - 0s 115us/step - loss: 0.4599 - acc: 0.7891\n",
            "Epoch 107/150\n",
            "768/768 [==============================] - 0s 111us/step - loss: 0.4620 - acc: 0.7917\n",
            "Epoch 108/150\n",
            "768/768 [==============================] - 0s 110us/step - loss: 0.4675 - acc: 0.7721\n",
            "Epoch 109/150\n",
            "768/768 [==============================] - 0s 115us/step - loss: 0.4691 - acc: 0.7734\n",
            "Epoch 110/150\n",
            "768/768 [==============================] - 0s 113us/step - loss: 0.4619 - acc: 0.7812\n",
            "Epoch 111/150\n",
            "768/768 [==============================] - 0s 108us/step - loss: 0.4631 - acc: 0.7930\n",
            "Epoch 112/150\n",
            "768/768 [==============================] - 0s 123us/step - loss: 0.4641 - acc: 0.7930\n",
            "Epoch 113/150\n",
            "768/768 [==============================] - 0s 108us/step - loss: 0.4600 - acc: 0.7865\n",
            "Epoch 114/150\n",
            "768/768 [==============================] - 0s 110us/step - loss: 0.4632 - acc: 0.7839\n",
            "Epoch 115/150\n",
            "768/768 [==============================] - 0s 117us/step - loss: 0.4702 - acc: 0.7826\n",
            "Epoch 116/150\n",
            "768/768 [==============================] - 0s 113us/step - loss: 0.4543 - acc: 0.7943\n",
            "Epoch 117/150\n",
            "768/768 [==============================] - 0s 113us/step - loss: 0.4615 - acc: 0.7826\n",
            "Epoch 118/150\n",
            "768/768 [==============================] - 0s 110us/step - loss: 0.4676 - acc: 0.7826\n",
            "Epoch 119/150\n",
            "768/768 [==============================] - 0s 113us/step - loss: 0.4560 - acc: 0.7878\n",
            "Epoch 120/150\n",
            "768/768 [==============================] - 0s 113us/step - loss: 0.4534 - acc: 0.7878\n",
            "Epoch 121/150\n",
            "768/768 [==============================] - 0s 112us/step - loss: 0.4597 - acc: 0.7930\n",
            "Epoch 122/150\n",
            "768/768 [==============================] - 0s 124us/step - loss: 0.4506 - acc: 0.7917\n",
            "Epoch 123/150\n",
            "768/768 [==============================] - 0s 116us/step - loss: 0.4584 - acc: 0.7956\n",
            "Epoch 124/150\n",
            "768/768 [==============================] - 0s 119us/step - loss: 0.4603 - acc: 0.7773\n",
            "Epoch 125/150\n",
            "768/768 [==============================] - 0s 109us/step - loss: 0.4546 - acc: 0.7826\n",
            "Epoch 126/150\n",
            "768/768 [==============================] - 0s 115us/step - loss: 0.4512 - acc: 0.7878\n",
            "Epoch 127/150\n",
            "768/768 [==============================] - 0s 112us/step - loss: 0.4626 - acc: 0.7878\n",
            "Epoch 128/150\n",
            "768/768 [==============================] - 0s 115us/step - loss: 0.4521 - acc: 0.7826\n",
            "Epoch 129/150\n",
            "768/768 [==============================] - 0s 124us/step - loss: 0.4521 - acc: 0.7917\n",
            "Epoch 130/150\n",
            "768/768 [==============================] - 0s 111us/step - loss: 0.4529 - acc: 0.7826\n",
            "Epoch 131/150\n",
            "768/768 [==============================] - 0s 115us/step - loss: 0.4712 - acc: 0.7773\n",
            "Epoch 132/150\n",
            "768/768 [==============================] - 0s 111us/step - loss: 0.4503 - acc: 0.7852\n",
            "Epoch 133/150\n",
            "768/768 [==============================] - 0s 114us/step - loss: 0.4570 - acc: 0.7891\n",
            "Epoch 134/150\n",
            "768/768 [==============================] - 0s 112us/step - loss: 0.4479 - acc: 0.7799\n",
            "Epoch 135/150\n",
            "768/768 [==============================] - 0s 111us/step - loss: 0.4637 - acc: 0.7826\n",
            "Epoch 136/150\n",
            "768/768 [==============================] - 0s 114us/step - loss: 0.4552 - acc: 0.7878\n",
            "Epoch 137/150\n",
            "768/768 [==============================] - 0s 117us/step - loss: 0.4556 - acc: 0.7865\n",
            "Epoch 138/150\n",
            "768/768 [==============================] - 0s 112us/step - loss: 0.4379 - acc: 0.8034\n",
            "Epoch 139/150\n",
            "768/768 [==============================] - 0s 113us/step - loss: 0.4701 - acc: 0.7721\n",
            "Epoch 140/150\n",
            "768/768 [==============================] - 0s 145us/step - loss: 0.4468 - acc: 0.7878\n",
            "Epoch 141/150\n",
            "768/768 [==============================] - 0s 118us/step - loss: 0.4488 - acc: 0.8021\n",
            "Epoch 142/150\n",
            "768/768 [==============================] - 0s 118us/step - loss: 0.4433 - acc: 0.7878\n",
            "Epoch 143/150\n",
            "768/768 [==============================] - 0s 121us/step - loss: 0.4494 - acc: 0.7969\n",
            "Epoch 144/150\n",
            "768/768 [==============================] - 0s 113us/step - loss: 0.4452 - acc: 0.7969\n",
            "Epoch 145/150\n",
            "768/768 [==============================] - 0s 112us/step - loss: 0.4581 - acc: 0.7812\n",
            "Epoch 146/150\n",
            "768/768 [==============================] - 0s 115us/step - loss: 0.4435 - acc: 0.7930\n",
            "Epoch 147/150\n",
            "768/768 [==============================] - 0s 114us/step - loss: 0.4476 - acc: 0.7852\n",
            "Epoch 148/150\n",
            "768/768 [==============================] - 0s 115us/step - loss: 0.4449 - acc: 0.7812\n",
            "Epoch 149/150\n",
            "768/768 [==============================] - 0s 114us/step - loss: 0.4530 - acc: 0.7826\n",
            "Epoch 150/150\n",
            "768/768 [==============================] - 0s 114us/step - loss: 0.4405 - acc: 0.7904\n"
          ],
          "name": "stdout"
        },
        {
          "output_type": "execute_result",
          "data": {
            "text/plain": [
              "<keras.callbacks.History at 0x7fbfb71a1160>"
            ]
          },
          "metadata": {
            "tags": []
          },
          "execution_count": 33
        }
      ]
    },
    {
      "metadata": {
        "id": "DllG2Hzh30Ah",
        "colab_type": "code",
        "colab": {
          "base_uri": "https://localhost:8080/",
          "height": 34
        },
        "outputId": "17318a7d-7405-4e69-998d-981913ac810e"
      },
      "cell_type": "code",
      "source": [
        "scores=model.evaluate(X,Y)"
      ],
      "execution_count": 34,
      "outputs": [
        {
          "output_type": "stream",
          "text": [
            "768/768 [==============================] - 0s 77us/step\n"
          ],
          "name": "stdout"
        }
      ]
    },
    {
      "metadata": {
        "id": "YJ5-AT7u4n-k",
        "colab_type": "code",
        "colab": {
          "base_uri": "https://localhost:8080/",
          "height": 34
        },
        "outputId": "2951e706-6371-494d-ea0c-4614a4136ec8"
      },
      "cell_type": "code",
      "source": [
        "print(\"%s: %.2f%%\" % (model.metrics_names[1], scores[1]*100))"
      ],
      "execution_count": 35,
      "outputs": [
        {
          "output_type": "stream",
          "text": [
            "acc: 78.65%\n"
          ],
          "name": "stdout"
        }
      ]
    },
    {
      "metadata": {
        "id": "_Vkhzu1E4qdw",
        "colab_type": "code",
        "colab": {}
      },
      "cell_type": "code",
      "source": [
        ""
      ],
      "execution_count": 0,
      "outputs": []
    }
  ]
}